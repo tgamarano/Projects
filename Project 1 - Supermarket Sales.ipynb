{
 "cells": [
  {
   "cell_type": "markdown",
   "id": "dea00a01",
   "metadata": {},
   "source": [
    "# Supermarket Analysis"
   ]
  },
  {
   "cell_type": "markdown",
   "id": "7ccb1805",
   "metadata": {},
   "source": [
    "#Importing Libraries and reading de Dataset"
   ]
  },
  {
   "cell_type": "code",
   "execution_count": 1,
   "id": "29334877",
   "metadata": {},
   "outputs": [],
   "source": [
    "import pandas as pd\n",
    "import numpy as np \n"
   ]
  },
  {
   "cell_type": "code",
   "execution_count": 2,
   "id": "500fb9ee",
   "metadata": {},
   "outputs": [],
   "source": [
    "supermarket = pd.read_csv('supermarket_sales - Sheet1.csv')\n"
   ]
  },
  {
   "cell_type": "markdown",
   "id": "632605e4",
   "metadata": {},
   "source": [
    "Cleaning and Treating the Dataset"
   ]
  },
  {
   "cell_type": "code",
   "execution_count": 3,
   "id": "95f4e2c5",
   "metadata": {},
   "outputs": [
    {
     "data": {
      "text/plain": [
       "Invoice ID                  object\n",
       "Branch                      object\n",
       "City                        object\n",
       "Customer type               object\n",
       "Gender                      object\n",
       "Product line                object\n",
       "Unit price                 float64\n",
       "Quantity                     int64\n",
       "Tax 5%                     float64\n",
       "Total                      float64\n",
       "Date                        object\n",
       "Time                        object\n",
       "Payment                     object\n",
       "cogs                       float64\n",
       "gross margin percentage    float64\n",
       "gross income               float64\n",
       "Rating                     float64\n",
       "dtype: object"
      ]
     },
     "execution_count": 3,
     "metadata": {},
     "output_type": "execute_result"
    }
   ],
   "source": [
    "supermarket.dtypes"
   ]
  },
  {
   "cell_type": "code",
   "execution_count": 4,
   "id": "44990fcd",
   "metadata": {},
   "outputs": [],
   "source": [
    "supermarket.columns = supermarket.columns.str.lower()"
   ]
  },
  {
   "cell_type": "code",
   "execution_count": 5,
   "id": "7e34fa5a",
   "metadata": {},
   "outputs": [],
   "source": [
    "supermarket['day'] = supermarket['date'].str.split('/', expand=True)[1]\n",
    "supermarket['month'] = supermarket['date'].str.split('/', expand=True)[0]\n",
    "supermarket['year'] = supermarket['date'].str.split('/', expand=True)[2]"
   ]
  },
  {
   "cell_type": "code",
   "execution_count": 6,
   "id": "2a47bee8",
   "metadata": {},
   "outputs": [],
   "source": [
    "supermarket['date'] = pd.to_datetime(supermarket['date'])"
   ]
  },
  {
   "cell_type": "markdown",
   "id": "c02fe685",
   "metadata": {},
   "source": [
    "Afer a Quick cleaning, I've decided to increase the gross income from products rated above 9 to 7% of gross Margin"
   ]
  },
  {
   "cell_type": "code",
   "execution_count": 7,
   "id": "7823fd20",
   "metadata": {},
   "outputs": [],
   "source": [
    "def day_time(x): \n",
    "    if '10' <= x <= '13:30': \n",
    "        return 'Morning'\n",
    "    elif '13:31' <= x <= '17:00': \n",
    "        return 'Afternoon'\n",
    "    else:\n",
    "        return 'Evening'\n",
    "    \n",
    "supermarket['shift'] = supermarket['time'].apply(day_time)\n"
   ]
  },
  {
   "cell_type": "code",
   "execution_count": 8,
   "id": "cb6d25f1",
   "metadata": {},
   "outputs": [],
   "source": [
    "for ind, row in supermarket.iterrows(): \n",
    "    if row['rating'] >= 8:\n",
    "        supermarket.loc[ind, 'new_gross margin'] = 8\n",
    "    else:\n",
    "        supermarket.loc[ind, 'new_gross margin'] = row['gross margin percentage']"
   ]
  },
  {
   "cell_type": "code",
   "execution_count": 9,
   "id": "1485e1f7",
   "metadata": {},
   "outputs": [],
   "source": [
    "for ind, row in supermarket.iterrows(): \n",
    "    if row['rating'] >=8: \n",
    "        supermarket.loc[ind, 'new_unit_price'] = (row['total'] * 1.08) / row['quantity']\n",
    "    else: \n",
    "        supermarket.loc[ind, 'new_unit_price'] = row['unit price']"
   ]
  },
  {
   "cell_type": "code",
   "execution_count": 10,
   "id": "e7e6469d",
   "metadata": {},
   "outputs": [],
   "source": [
    "for ind, row in supermarket.iterrows(): \n",
    "    if row['rating'] >= 8: \n",
    "        supermarket.loc[ind, 'new_total'] = row['new_unit_price'] * row['quantity']\n",
    "    else: \n",
    "        supermarket.loc[ind, 'new_total'] = row['total']\n",
    "        "
   ]
  },
  {
   "cell_type": "code",
   "execution_count": 11,
   "id": "f108e098",
   "metadata": {},
   "outputs": [],
   "source": [
    "for ind, row in supermarket.iterrows(): \n",
    "    if row['rating'] >= 8: \n",
    "        supermarket.loc[ind, 'new_gross_income'] = row['new_total'] * (row['new_gross margin'] / 100)\n",
    "    else:\n",
    "        supermarket.loc[ind, 'new_gross_income'] = row['gross income']"
   ]
  },
  {
   "cell_type": "markdown",
   "id": "96bb45ee",
   "metadata": {},
   "source": [
    "That's my final result, let's work on it on Power BI"
   ]
  },
  {
   "cell_type": "code",
   "execution_count": 12,
   "id": "eeb24b71",
   "metadata": {},
   "outputs": [
    {
     "data": {
      "text/html": [
       "<div>\n",
       "<style scoped>\n",
       "    .dataframe tbody tr th:only-of-type {\n",
       "        vertical-align: middle;\n",
       "    }\n",
       "\n",
       "    .dataframe tbody tr th {\n",
       "        vertical-align: top;\n",
       "    }\n",
       "\n",
       "    .dataframe thead th {\n",
       "        text-align: right;\n",
       "    }\n",
       "</style>\n",
       "<table border=\"1\" class=\"dataframe\">\n",
       "  <thead>\n",
       "    <tr style=\"text-align: right;\">\n",
       "      <th></th>\n",
       "      <th>invoice id</th>\n",
       "      <th>branch</th>\n",
       "      <th>city</th>\n",
       "      <th>customer type</th>\n",
       "      <th>gender</th>\n",
       "      <th>product line</th>\n",
       "      <th>unit price</th>\n",
       "      <th>quantity</th>\n",
       "      <th>tax 5%</th>\n",
       "      <th>total</th>\n",
       "      <th>...</th>\n",
       "      <th>gross income</th>\n",
       "      <th>rating</th>\n",
       "      <th>day</th>\n",
       "      <th>month</th>\n",
       "      <th>year</th>\n",
       "      <th>shift</th>\n",
       "      <th>new_gross margin</th>\n",
       "      <th>new_unit_price</th>\n",
       "      <th>new_total</th>\n",
       "      <th>new_gross_income</th>\n",
       "    </tr>\n",
       "  </thead>\n",
       "  <tbody>\n",
       "    <tr>\n",
       "      <th>0</th>\n",
       "      <td>750-67-8428</td>\n",
       "      <td>A</td>\n",
       "      <td>Yangon</td>\n",
       "      <td>Member</td>\n",
       "      <td>Female</td>\n",
       "      <td>Health and beauty</td>\n",
       "      <td>74.69</td>\n",
       "      <td>7</td>\n",
       "      <td>26.1415</td>\n",
       "      <td>548.9715</td>\n",
       "      <td>...</td>\n",
       "      <td>26.1415</td>\n",
       "      <td>9.1</td>\n",
       "      <td>5</td>\n",
       "      <td>1</td>\n",
       "      <td>2019</td>\n",
       "      <td>Morning</td>\n",
       "      <td>8.000000</td>\n",
       "      <td>84.69846</td>\n",
       "      <td>592.88922</td>\n",
       "      <td>47.431138</td>\n",
       "    </tr>\n",
       "    <tr>\n",
       "      <th>1</th>\n",
       "      <td>226-31-3081</td>\n",
       "      <td>C</td>\n",
       "      <td>Naypyitaw</td>\n",
       "      <td>Normal</td>\n",
       "      <td>Female</td>\n",
       "      <td>Electronic accessories</td>\n",
       "      <td>15.28</td>\n",
       "      <td>5</td>\n",
       "      <td>3.8200</td>\n",
       "      <td>80.2200</td>\n",
       "      <td>...</td>\n",
       "      <td>3.8200</td>\n",
       "      <td>9.6</td>\n",
       "      <td>8</td>\n",
       "      <td>3</td>\n",
       "      <td>2019</td>\n",
       "      <td>Morning</td>\n",
       "      <td>8.000000</td>\n",
       "      <td>17.32752</td>\n",
       "      <td>86.63760</td>\n",
       "      <td>6.931008</td>\n",
       "    </tr>\n",
       "    <tr>\n",
       "      <th>2</th>\n",
       "      <td>631-41-3108</td>\n",
       "      <td>A</td>\n",
       "      <td>Yangon</td>\n",
       "      <td>Normal</td>\n",
       "      <td>Male</td>\n",
       "      <td>Home and lifestyle</td>\n",
       "      <td>46.33</td>\n",
       "      <td>7</td>\n",
       "      <td>16.2155</td>\n",
       "      <td>340.5255</td>\n",
       "      <td>...</td>\n",
       "      <td>16.2155</td>\n",
       "      <td>7.4</td>\n",
       "      <td>3</td>\n",
       "      <td>3</td>\n",
       "      <td>2019</td>\n",
       "      <td>Morning</td>\n",
       "      <td>4.761905</td>\n",
       "      <td>46.33000</td>\n",
       "      <td>340.52550</td>\n",
       "      <td>16.215500</td>\n",
       "    </tr>\n",
       "    <tr>\n",
       "      <th>3</th>\n",
       "      <td>123-19-1176</td>\n",
       "      <td>A</td>\n",
       "      <td>Yangon</td>\n",
       "      <td>Member</td>\n",
       "      <td>Male</td>\n",
       "      <td>Health and beauty</td>\n",
       "      <td>58.22</td>\n",
       "      <td>8</td>\n",
       "      <td>23.2880</td>\n",
       "      <td>489.0480</td>\n",
       "      <td>...</td>\n",
       "      <td>23.2880</td>\n",
       "      <td>8.4</td>\n",
       "      <td>27</td>\n",
       "      <td>1</td>\n",
       "      <td>2019</td>\n",
       "      <td>Evening</td>\n",
       "      <td>8.000000</td>\n",
       "      <td>66.02148</td>\n",
       "      <td>528.17184</td>\n",
       "      <td>42.253747</td>\n",
       "    </tr>\n",
       "    <tr>\n",
       "      <th>4</th>\n",
       "      <td>373-73-7910</td>\n",
       "      <td>A</td>\n",
       "      <td>Yangon</td>\n",
       "      <td>Normal</td>\n",
       "      <td>Male</td>\n",
       "      <td>Sports and travel</td>\n",
       "      <td>86.31</td>\n",
       "      <td>7</td>\n",
       "      <td>30.2085</td>\n",
       "      <td>634.3785</td>\n",
       "      <td>...</td>\n",
       "      <td>30.2085</td>\n",
       "      <td>5.3</td>\n",
       "      <td>8</td>\n",
       "      <td>2</td>\n",
       "      <td>2019</td>\n",
       "      <td>Morning</td>\n",
       "      <td>4.761905</td>\n",
       "      <td>86.31000</td>\n",
       "      <td>634.37850</td>\n",
       "      <td>30.208500</td>\n",
       "    </tr>\n",
       "  </tbody>\n",
       "</table>\n",
       "<p>5 rows × 25 columns</p>\n",
       "</div>"
      ],
      "text/plain": [
       "    invoice id branch       city customer type  gender  \\\n",
       "0  750-67-8428      A     Yangon        Member  Female   \n",
       "1  226-31-3081      C  Naypyitaw        Normal  Female   \n",
       "2  631-41-3108      A     Yangon        Normal    Male   \n",
       "3  123-19-1176      A     Yangon        Member    Male   \n",
       "4  373-73-7910      A     Yangon        Normal    Male   \n",
       "\n",
       "             product line  unit price  quantity   tax 5%     total  ...  \\\n",
       "0       Health and beauty       74.69         7  26.1415  548.9715  ...   \n",
       "1  Electronic accessories       15.28         5   3.8200   80.2200  ...   \n",
       "2      Home and lifestyle       46.33         7  16.2155  340.5255  ...   \n",
       "3       Health and beauty       58.22         8  23.2880  489.0480  ...   \n",
       "4       Sports and travel       86.31         7  30.2085  634.3785  ...   \n",
       "\n",
       "  gross income rating day  month  year    shift  new_gross margin  \\\n",
       "0      26.1415    9.1   5      1  2019  Morning          8.000000   \n",
       "1       3.8200    9.6   8      3  2019  Morning          8.000000   \n",
       "2      16.2155    7.4   3      3  2019  Morning          4.761905   \n",
       "3      23.2880    8.4  27      1  2019  Evening          8.000000   \n",
       "4      30.2085    5.3   8      2  2019  Morning          4.761905   \n",
       "\n",
       "  new_unit_price  new_total new_gross_income  \n",
       "0       84.69846  592.88922        47.431138  \n",
       "1       17.32752   86.63760         6.931008  \n",
       "2       46.33000  340.52550        16.215500  \n",
       "3       66.02148  528.17184        42.253747  \n",
       "4       86.31000  634.37850        30.208500  \n",
       "\n",
       "[5 rows x 25 columns]"
      ]
     },
     "execution_count": 12,
     "metadata": {},
     "output_type": "execute_result"
    }
   ],
   "source": [
    "supermarket.head()"
   ]
  },
  {
   "cell_type": "code",
   "execution_count": 13,
   "id": "d340221b",
   "metadata": {},
   "outputs": [],
   "source": [
    "supermarket.to_excel('supermarket_dataset_treated.xlsx')"
   ]
  },
  {
   "cell_type": "code",
   "execution_count": 92,
   "id": "e5c9f16b",
   "metadata": {},
   "outputs": [],
   "source": []
  }
 ],
 "metadata": {
  "kernelspec": {
   "display_name": "Python 3 (ipykernel)",
   "language": "python",
   "name": "python3"
  },
  "language_info": {
   "codemirror_mode": {
    "name": "ipython",
    "version": 3
   },
   "file_extension": ".py",
   "mimetype": "text/x-python",
   "name": "python",
   "nbconvert_exporter": "python",
   "pygments_lexer": "ipython3",
   "version": "3.9.7"
  }
 },
 "nbformat": 4,
 "nbformat_minor": 5
}
